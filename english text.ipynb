{
 "cells": [
  {
   "cell_type": "markdown",
   "id": "c982c1fa",
   "metadata": {},
   "source": [
    "### Dans ce document nous allons voir les differentes étapes de base du prétraitement d'un texte anglais. Ces étapes sont nécessaires pour transférer du texte du langage humain vers un format lisible par machine pour un traitement ultérieur."
   ]
  },
  {
   "cell_type": "code",
   "execution_count": 3,
   "id": "77097c7f",
   "metadata": {},
   "outputs": [],
   "source": [
    "import nltk\n",
    "#nltk.download()"
   ]
  },
  {
   "cell_type": "markdown",
   "id": "e82f5542",
   "metadata": {},
   "source": [
    "**Etapes 1 :** Convertion du texte en **minuscules**"
   ]
  },
  {
   "cell_type": "code",
   "execution_count": 4,
   "id": "94936716",
   "metadata": {},
   "outputs": [
    {
     "name": "stdout",
     "output_type": "stream",
     "text": [
      "perhaps one of the most significant advances made by arabic mathematics began at this time with the work of al-khwarizmi, namely the beginnings of algebra. it is important to understand just how significant this new idea was. it was a revolutionary move away from the greek concept of mathematics which was essentially geometry. algebra was a unifying theory which allowed rational numbers, irrational numbers, geometrical magnitudes, etc., to all be treated as \"algebraic objects\" . it gave mathematics a whole new development path so much broader in concept to that which had existed before, and provided a vehicle for future development of the subject. another important aspect of the introduction of algebraic ideas was that it allowed mathematics to be applied to itself in a way which had not happened before.\n"
     ]
    }
   ],
   "source": [
    "text_src = \"\"\"Perhaps one of the most significant advances made by Arabic mathematics began at this time with the work of al-Khwarizmi, namely the beginnings of algebra. It is important to understand just how significant this new idea was. It was a revolutionary move away from the Greek concept of mathematics which was essentially geometry. Algebra was a unifying theory which allowed rational numbers, irrational numbers, geometrical magnitudes, etc., to all be treated as \"algebraic objects\" . It gave mathematics a whole new development path so much broader in concept to that which had existed before, and provided a vehicle for future development of the subject. Another important aspect of the introduction of algebraic ideas was that it allowed mathematics to be applied to itself in a way which had not happened before.\"\"\"\n",
    "text_lower = text_src.lower()\n",
    "print(text_lower)"
   ]
  },
  {
   "cell_type": "markdown",
   "id": "879e2273",
   "metadata": {},
   "source": [
    "**Etape 2:** Suppression des signes de ponctuation, des marques d’accentuation et d’autres signes diacritiques en utilisant **les expressions regulières**"
   ]
  },
  {
   "cell_type": "code",
   "execution_count": 5,
   "id": "77fcda79",
   "metadata": {},
   "outputs": [
    {
     "name": "stdout",
     "output_type": "stream",
     "text": [
      "perhaps one of the most significant advances made by arabic mathematics began at this time with the work of alkhwarizmi namely the beginnings of algebra it is important to understand just how significant this new idea was it was a revolutionary move away from the greek concept of mathematics which was essentially geometry algebra was a unifying theory which allowed rational numbers irrational numbers geometrical magnitudes etc to all be treated as algebraic objects  it gave mathematics a whole new development path so much broader in concept to that which had existed before and provided a vehicle for future development of the subject another important aspect of the introduction of algebraic ideas was that it allowed mathematics to be applied to itself in a way which had not happened before\n"
     ]
    }
   ],
   "source": [
    "import string\n",
    "text_result = text_lower.translate(str.maketrans('', '', string.punctuation))\n",
    "print(text_result)"
   ]
  },
  {
   "cell_type": "markdown",
   "id": "2baacb85",
   "metadata": {},
   "source": [
    "**Etapes 3: Tokenisation** à fin d'extraire le texte mot par mot"
   ]
  },
  {
   "cell_type": "code",
   "execution_count": 6,
   "id": "94b44aee",
   "metadata": {},
   "outputs": [
    {
     "name": "stdout",
     "output_type": "stream",
     "text": [
      "['perhaps', 'one', 'of', 'the', 'most', 'significant', 'advances', 'made', 'by', 'arabic', 'mathematics', 'began', 'at', 'this', 'time', 'with', 'the', 'work', 'of', 'alkhwarizmi', 'namely', 'the', 'beginnings', 'of', 'algebra', 'it', 'is', 'important', 'to', 'understand', 'just', 'how', 'significant', 'this', 'new', 'idea', 'was', 'it', 'was', 'a', 'revolutionary', 'move', 'away', 'from', 'the', 'greek', 'concept', 'of', 'mathematics', 'which', 'was', 'essentially', 'geometry', 'algebra', 'was', 'a', 'unifying', 'theory', 'which', 'allowed', 'rational', 'numbers', 'irrational', 'numbers', 'geometrical', 'magnitudes', 'etc', 'to', 'all', 'be', 'treated', 'as', 'algebraic', 'objects', 'it', 'gave', 'mathematics', 'a', 'whole', 'new', 'development', 'path', 'so', 'much', 'broader', 'in', 'concept', 'to', 'that', 'which', 'had', 'existed', 'before', 'and', 'provided', 'a', 'vehicle', 'for', 'future', 'development', 'of', 'the', 'subject', 'another', 'important', 'aspect', 'of', 'the', 'introduction', 'of', 'algebraic', 'ideas', 'was', 'that', 'it', 'allowed', 'mathematics', 'to', 'be', 'applied', 'to', 'itself', 'in', 'a', 'way', 'which', 'had', 'not', 'happened', 'before']\n"
     ]
    }
   ],
   "source": [
    "from nltk import word_tokenize\n",
    "word_tokenize = word_tokenize(text_result)\n",
    "print(word_tokenize)"
   ]
  },
  {
   "cell_type": "markdown",
   "id": "ef2b12ec",
   "metadata": {},
   "source": [
    "**Etapes 4: Stopword Filtering** cette étape sert à supprimer les mots les plus courants dans le language et qui n’ont pas de signification importante pour le text comme 'The', 'is', 'for', 'a' ..."
   ]
  },
  {
   "cell_type": "code",
   "execution_count": 7,
   "id": "2518f604",
   "metadata": {},
   "outputs": [
    {
     "name": "stdout",
     "output_type": "stream",
     "text": [
      "['perhaps', 'one', 'significant', 'advances', 'made', 'arabic', 'mathematics', 'began', 'time', 'work', 'alkhwarizmi', 'namely', 'beginnings', 'algebra', 'important', 'understand', 'significant', 'new', 'idea', 'revolutionary', 'move', 'away', 'greek', 'concept', 'mathematics', 'essentially', 'geometry', 'algebra', 'unifying', 'theory', 'allowed', 'rational', 'numbers', 'irrational', 'numbers', 'geometrical', 'magnitudes', 'etc', 'treated', 'algebraic', 'objects', 'gave', 'mathematics', 'whole', 'new', 'development', 'path', 'much', 'broader', 'concept', 'existed', 'provided', 'vehicle', 'future', 'development', 'subject', 'another', 'important', 'aspect', 'introduction', 'algebraic', 'ideas', 'allowed', 'mathematics', 'applied', 'way', 'happened']\n"
     ]
    }
   ],
   "source": [
    "from nltk.corpus import stopwords\n",
    "stop_words = stopwords.words('english')\n",
    "#print(stop_words)\n",
    "\n",
    "filtered_words = [i for i in word_tokenize if i not in stop_words]\n",
    "print(filtered_words)"
   ]
  },
  {
   "cell_type": "markdown",
   "id": "14c46f70",
   "metadata": {},
   "source": [
    "**Etapes 5:** Suppression des termes épars et des mots particuliers"
   ]
  },
  {
   "cell_type": "markdown",
   "id": "9d4b8e6b",
   "metadata": {},
   "source": [
    "- **Stemming** cette technique consiste à réduire les mots à leur radical, à leur base ou à leur forme racine"
   ]
  },
  {
   "cell_type": "code",
   "execution_count": 8,
   "id": "9e56c57f",
   "metadata": {},
   "outputs": [
    {
     "name": "stdout",
     "output_type": "stream",
     "text": [
      "['perhap', 'one', 'signific', 'advanc', 'made', 'arab', 'mathemat', 'began', 'time', 'work', 'alkhwarizmi', 'name', 'begin', 'algebra', 'import', 'understand', 'signific', 'new', 'idea', 'revolutionari', 'move', 'away', 'greek', 'concept', 'mathemat', 'essenti', 'geometri', 'algebra', 'unifi', 'theori', 'allow', 'ration', 'number', 'irrat', 'number', 'geometr', 'magnitud', 'etc', 'treat', 'algebra', 'object', 'gave', 'mathemat', 'whole', 'new', 'develop', 'path', 'much', 'broader', 'concept', 'exist', 'provid', 'vehicl', 'futur', 'develop', 'subject', 'anoth', 'import', 'aspect', 'introduct', 'algebra', 'idea', 'allow', 'mathemat', 'appli', 'way', 'happen']\n"
     ]
    }
   ],
   "source": [
    "from nltk.stem.porter import PorterStemmer\n",
    "porter = PorterStemmer()\n",
    "stemmed = [porter.stem(word) for word in filtered_words]\n",
    "print(stemmed)"
   ]
  },
  {
   "cell_type": "markdown",
   "id": "d227d992",
   "metadata": {},
   "source": [
    "- **Lemmatization** cette technique utilise des bases de connaissances lexicales pour obtenir les formes de base correctes des mots"
   ]
  },
  {
   "cell_type": "code",
   "execution_count": 9,
   "id": "9e7b9d1c",
   "metadata": {},
   "outputs": [
    {
     "name": "stdout",
     "output_type": "stream",
     "text": [
      "['perhaps', 'one', 'significant', 'advance', 'made', 'arabic', 'mathematics', 'began', 'time', 'work', 'alkhwarizmi', 'namely', 'beginning', 'algebra', 'important', 'understand', 'significant', 'new', 'idea', 'revolutionary', 'move', 'away', 'greek', 'concept', 'mathematics', 'essentially', 'geometry', 'algebra', 'unifying', 'theory', 'allowed', 'rational', 'number', 'irrational', 'number', 'geometrical', 'magnitude', 'etc', 'treated', 'algebraic', 'object', 'gave', 'mathematics', 'whole', 'new', 'development', 'path', 'much', 'broader', 'concept', 'existed', 'provided', 'vehicle', 'future', 'development', 'subject', 'another', 'important', 'aspect', 'introduction', 'algebraic', 'idea', 'allowed', 'mathematics', 'applied', 'way', 'happened']\n"
     ]
    }
   ],
   "source": [
    "from nltk.stem import WordNetLemmatizer\n",
    "lemmatizer=WordNetLemmatizer()\n",
    "lemmatized = [lemmatizer.lemmatize(word) for word in filtered_words]\n",
    "print(lemmatized)"
   ]
  },
  {
   "cell_type": "markdown",
   "id": "6c5439aa",
   "metadata": {},
   "source": [
    "**Etapes 5: Part of speech tagging** c’est un processus de conversion d’une phrase en liste de tuples (où chaque tuple a une forme (mot, balise). La balise dans notre cas signifie si le mot est un nom, un adjectif, un verbe, etc."
   ]
  },
  {
   "cell_type": "code",
   "execution_count": 10,
   "id": "69c2f17c",
   "metadata": {},
   "outputs": [
    {
     "name": "stdout",
     "output_type": "stream",
     "text": [
      "[('perhaps', 'RB'), ('one', 'CD'), ('significant', 'JJ'), ('advances', 'NNS'), ('made', 'VBN'), ('arabic', 'JJ'), ('mathematics', 'NNS'), ('began', 'VBD'), ('time', 'NN'), ('work', 'NN'), ('alkhwarizmi', 'RB'), ('namely', 'RB'), ('beginnings', 'JJ'), ('algebra', 'NN'), ('important', 'JJ'), ('understand', 'NN'), ('significant', 'JJ'), ('new', 'JJ'), ('idea', 'NN'), ('revolutionary', 'JJ'), ('move', 'VB'), ('away', 'RB'), ('greek', 'JJ'), ('concept', 'NN'), ('mathematics', 'NNS'), ('essentially', 'RB'), ('geometry', 'VBP'), ('algebra', 'JJ'), ('unifying', 'VBG'), ('theory', 'NN'), ('allowed', 'VBN'), ('rational', 'JJ'), ('numbers', 'NNS'), ('irrational', 'JJ'), ('numbers', 'NNS'), ('geometrical', 'JJ'), ('magnitudes', 'NNS'), ('etc', 'VBP'), ('treated', 'VBN'), ('algebraic', 'JJ'), ('objects', 'NNS'), ('gave', 'VBD'), ('mathematics', 'NNS'), ('whole', 'JJ'), ('new', 'JJ'), ('development', 'NN'), ('path', 'NN'), ('much', 'JJ'), ('broader', 'JJR'), ('concept', 'NN'), ('existed', 'VBD'), ('provided', 'JJ'), ('vehicle', 'NN'), ('future', 'NN'), ('development', 'NN'), ('subject', 'NN'), ('another', 'DT'), ('important', 'JJ'), ('aspect', 'NN'), ('introduction', 'NN'), ('algebraic', 'IN'), ('ideas', 'NNS'), ('allowed', 'VBN'), ('mathematics', 'NNS'), ('applied', 'VBD'), ('way', 'NN'), ('happened', 'VBD')]\n",
      "NNP: noun, proper, singular\n",
      "    Motown Venneboerger Czestochwa Ranzer Conchita Trumplane Christos\n",
      "    Oceanside Escobar Kreisler Sawyer Cougar Yvette Ervin ODI Darryl CTCA\n",
      "    Shannon A.K.C. Meltex Liverpool ...\n"
     ]
    }
   ],
   "source": [
    "from nltk import pos_tag\n",
    "pos = pos_tag(filtered_words)\n",
    "print(pos)\n",
    "\n",
    "nltk.help.upenn_tagset(\"NNP\")"
   ]
  },
  {
   "cell_type": "markdown",
   "id": "4870f29a",
   "metadata": {},
   "source": [
    "**Etapes 6: Chunking** (facultatif) est un processus de langage naturel qui identifie les parties constitutives des phrases (noms, verbes, adjectifs, etc.) et les relie à des unités d’ordre supérieur qui ont des significations grammaticales discrètes (groupes de noms ou phrases, groupes de verbes, etc.)"
   ]
  },
  {
   "cell_type": "markdown",
   "id": "4a7bb4ee",
   "metadata": {},
   "source": [
    "Nous allons définir cela à l’aide d’une règle d’expression régulière unique. Elle stipule que chaque fois que le segment trouve un détermineur facultatif (DT) suivi d’un nombre quelconque d’adjectifs (JJ), puis d’un nom (NN), le segment phrase nominale (NP) doit être formé."
   ]
  },
  {
   "cell_type": "code",
   "execution_count": 163,
   "id": "d803ea16",
   "metadata": {},
   "outputs": [
    {
     "name": "stdout",
     "output_type": "stream",
     "text": [
      "(S\n",
      "  perhaps/RB\n",
      "  one/CD\n",
      "  of/IN\n",
      "  the/DT\n",
      "  most/RBS\n",
      "  significant/JJ\n",
      "  advances/NNS\n",
      "  made/VBN\n",
      "  by/IN\n",
      "  arabic/JJ\n",
      "  mathematics/NNS\n",
      "  began/VBD\n",
      "  at/IN\n",
      "  (NP this/DT time/NN)\n",
      "  with/IN\n",
      "  (NP the/DT work/NN)\n",
      "  of/IN\n",
      "  (NP alkhwarizmi/NN)\n",
      "  namely/RB\n",
      "  the/DT\n",
      "  beginnings/NNS\n",
      "  of/IN\n",
      "  (NP algebra/NN)\n",
      "  it/PRP\n",
      "  is/VBZ\n",
      "  important/JJ\n",
      "  to/TO\n",
      "  understand/VB\n",
      "  just/RB\n",
      "  how/WRB\n",
      "  significant/JJ\n",
      "  (NP this/DT new/JJ idea/NN)\n",
      "  was/VBD\n",
      "  it/PRP\n",
      "  was/VBD\n",
      "  (NP a/DT revolutionary/JJ move/NN)\n",
      "  away/RB\n",
      "  from/IN\n",
      "  (NP the/DT greek/JJ concept/NN)\n",
      "  of/IN\n",
      "  mathematics/NNS\n",
      "  which/WDT\n",
      "  was/VBD\n",
      "  essentially/RB\n",
      "  (NP geometry/JJ algebra/NN)\n",
      "  was/VBD\n",
      "  (NP a/DT unifying/JJ theory/NN)\n",
      "  which/WDT\n",
      "  allowed/VBD\n",
      "  rational/JJ\n",
      "  numbers/NNS\n",
      "  irrational/JJ\n",
      "  numbers/NNS\n",
      "  geometrical/JJ\n",
      "  magnitudes/NNS\n",
      "  etc/VBP\n",
      "  to/TO\n",
      "  all/DT\n",
      "  be/VB\n",
      "  treated/VBN\n",
      "  as/IN\n",
      "  algebraic/JJ\n",
      "  objects/NNS\n",
      "  it/PRP\n",
      "  gave/VBD\n",
      "  mathematics/NNS\n",
      "  (NP a/DT whole/JJ new/JJ development/NN)\n",
      "  (NP path/NN)\n",
      "  so/RB\n",
      "  much/JJ\n",
      "  broader/JJR\n",
      "  in/IN\n",
      "  (NP concept/NN)\n",
      "  to/TO\n",
      "  that/DT\n",
      "  which/WDT\n",
      "  had/VBD\n",
      "  existed/VBN\n",
      "  before/IN\n",
      "  and/CC\n",
      "  provided/VBD\n",
      "  (NP a/DT vehicle/NN)\n",
      "  for/IN\n",
      "  (NP future/JJ development/NN)\n",
      "  of/IN\n",
      "  (NP the/DT subject/NN)\n",
      "  (NP another/DT important/JJ aspect/NN)\n",
      "  of/IN\n",
      "  (NP the/DT introduction/NN)\n",
      "  of/IN\n",
      "  algebraic/JJ\n",
      "  ideas/NNS\n",
      "  was/VBD\n",
      "  that/IN\n",
      "  it/PRP\n",
      "  allowed/VBD\n",
      "  mathematics/NNS\n",
      "  to/TO\n",
      "  be/VB\n",
      "  applied/VBN\n",
      "  to/TO\n",
      "  itself/PRP\n",
      "  in/IN\n",
      "  (NP a/DT way/NN)\n",
      "  which/WDT\n",
      "  had/VBD\n",
      "  not/RB\n",
      "  happened/VBN\n",
      "  before/IN)\n",
      "(NP this/DT time/NN)\n",
      "(NP the/DT work/NN)\n",
      "(NP alkhwarizmi/NN)\n",
      "(NP algebra/NN)\n",
      "(NP this/DT new/JJ idea/NN)\n",
      "(NP a/DT revolutionary/JJ move/NN)\n",
      "(NP the/DT greek/JJ concept/NN)\n",
      "(NP geometry/JJ algebra/NN)\n",
      "(NP a/DT unifying/JJ theory/NN)\n",
      "(NP a/DT whole/JJ new/JJ development/NN)\n",
      "(NP path/NN)\n",
      "(NP concept/NN)\n",
      "(NP a/DT vehicle/NN)\n",
      "(NP future/JJ development/NN)\n",
      "(NP the/DT subject/NN)\n",
      "(NP another/DT important/JJ aspect/NN)\n",
      "(NP the/DT introduction/NN)\n",
      "(NP a/DT way/NN)\n"
     ]
    }
   ],
   "source": [
    "regular_exp = \"expression: {<DT>?<JJ>*<NN>}\"\n",
    "\n",
    "chunkParser = nltk.RegexpParser(regular_exp)\n",
    "chunkParser = nltk.RegexpParser(grammar)\n",
    "tree = chunkParser.parse(pos_tag(word_tokenize))\n",
    "\n",
    "for subtree in tree.subtrees():\n",
    "    print(subtree)\n",
    "\n",
    "tree.draw()"
   ]
  }
 ],
 "metadata": {
  "kernelspec": {
   "display_name": "Python 3",
   "language": "python",
   "name": "python3"
  },
  "language_info": {
   "codemirror_mode": {
    "name": "ipython",
    "version": 3
   },
   "file_extension": ".py",
   "mimetype": "text/x-python",
   "name": "python",
   "nbconvert_exporter": "python",
   "pygments_lexer": "ipython3",
   "version": "3.9.5"
  }
 },
 "nbformat": 4,
 "nbformat_minor": 5
}
